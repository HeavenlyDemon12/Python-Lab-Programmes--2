{
 "cells": [
  {
   "cell_type": "code",
   "execution_count": null,
   "id": "57a4159c",
   "metadata": {},
   "outputs": [],
   "source": [
    "a=int(input('enter a number'))\n",
    "if a%2==0:\n",
    "    print('number is even')\n",
    "else:\n",
    "    print('number is odd')\n",
    "print('done')"
   ]
  },
  {
   "cell_type": "code",
   "execution_count": null,
   "id": "309a3992",
   "metadata": {},
   "outputs": [],
   "source": [
    "a=int(input('enter the number'))\n",
    "if a>0:\n",
    "    print('number is positive')\n",
    "elif a==0:\n",
    "    print('number is zero')\n",
    "else:\n",
    "    print('number is negetive')"
   ]
  },
  {
   "cell_type": "code",
   "execution_count": null,
   "id": "d4431ab3",
   "metadata": {},
   "outputs": [],
   "source": [
    "a=int(input('enter the number'))\n",
    "if a>0:\n",
    "    print('number is positive')\n",
    "if a==0:\n",
    "    print('number is zero')\n",
    "if a<0:\n",
    "    print('number is negetive')"
   ]
  },
  {
   "cell_type": "code",
   "execution_count": null,
   "id": "79801a7b",
   "metadata": {},
   "outputs": [],
   "source": [
    "a=int(input('enter the 1st number'))\n",
    "b=int(input('enter the 2nd number'))\n",
    "c=int(input('enter the 3rd number'))\n",
    "if (a>b) and (a>c):\n",
    "    print('the greatest is'+str(a))\n",
    "if (b>a) and (b>c):\n",
    "    print('the greatest is'+str(b))\n",
    "if (c>b) and (c>a):\n",
    "    print('the greatest is'+str(c))\n",
    "print('done')\n"
   ]
  },
  {
   "cell_type": "markdown",
   "id": "632cc3b4",
   "metadata": {},
   "source": [
    "i=1\n",
    "while(i<=100)\n"
   ]
  },
  {
   "cell_type": "code",
   "execution_count": null,
   "id": "461696ad",
   "metadata": {},
   "outputs": [],
   "source": [
    "i=1\n",
    "while i<=100:\n",
    "    if (i%4!=0) and (i%7!=0):\n",
    "        print(i)\n",
    "    i=i+1\n",
    "print('done')"
   ]
  },
  {
   "cell_type": "code",
   "execution_count": null,
   "id": "19eeb19c",
   "metadata": {},
   "outputs": [],
   "source": []
  },
  {
   "cell_type": "code",
   "execution_count": null,
   "id": "412953c7",
   "metadata": {},
   "outputs": [],
   "source": []
  },
  {
   "cell_type": "code",
   "execution_count": null,
   "id": "589195a2",
   "metadata": {},
   "outputs": [],
   "source": [
    "i=1\n",
    "while i<=100:\n",
    "    if (i%4!=0) and (i%7!=0):\n",
    "        print(i)\n",
    "    i=i+1\n"
   ]
  },
  {
   "cell_type": "code",
   "execution_count": null,
   "id": "cabb471a",
   "metadata": {},
   "outputs": [],
   "source": [
    "a = int(input('enter the number'))\n",
    "i=0\n",
    "sum=0\n",
    "while i<=a:\n",
    "    sum=sum+i\n",
    "    i+=1\n",
    "print(sum)\n",
    "print('done')"
   ]
  },
  {
   "cell_type": "code",
   "execution_count": null,
   "id": "d0d4e5f5",
   "metadata": {},
   "outputs": [],
   "source": [
    "i=1\n",
    "while i<=100:\n",
    "    if i%2==0:\n",
    "        print(i)\n",
    "    i=i+1\n",
    "print('done')"
   ]
  },
  {
   "cell_type": "code",
   "execution_count": null,
   "id": "3389c78c",
   "metadata": {},
   "outputs": [],
   "source": [
    "i=1\n",
    "while i<=100:\n",
    "    if i%2!=0:\n",
    "        print(i)\n",
    "    i=i+1\n",
    "print('done')"
   ]
  },
  {
   "cell_type": "code",
   "execution_count": null,
   "id": "99786a8c",
   "metadata": {},
   "outputs": [],
   "source": [
    "i=1\n",
    "n=5\n",
    "while i<=100:\n",
    "    if (i%1==0) and (i%i==0):\n",
    "            print(i)\n",
    "    i=i+1\n",
    "print('done')"
   ]
  },
  {
   "cell_type": "code",
   "execution_count": 25,
   "id": "1fd00322",
   "metadata": {},
   "outputs": [
    {
     "name": "stdout",
     "output_type": "stream",
     "text": [
      "# \n",
      "# # \n",
      "# # # \n",
      "# # # # \n",
      "# # # # # \n"
     ]
    }
   ],
   "source": [
    "i=0\n",
    "j=0\n",
    "for i in range(0,5):\n",
    "    for j in range(0,i+1):\n",
    "        print('#',end=' ')\n",
    "    print()"
   ]
  },
  {
   "cell_type": "code",
   "execution_count": 26,
   "id": "f8bbfc2a",
   "metadata": {},
   "outputs": [
    {
     "name": "stdout",
     "output_type": "stream",
     "text": [
      "# # # # # \n",
      "# # # # # \n",
      "# # # # # \n",
      "# # # # # \n",
      "# # # # # \n"
     ]
    }
   ],
   "source": [
    "i=0\n",
    "j=0\n",
    "for i in range(0,5):\n",
    "    for j in range(0,5):\n",
    "        print('#',end=' ')\n",
    "    print()"
   ]
  },
  {
   "cell_type": "code",
   "execution_count": 44,
   "id": "1559660f",
   "metadata": {},
   "outputs": [
    {
     "name": "stdout",
     "output_type": "stream",
     "text": [
      "# # # # # \n",
      "# # # # \n",
      "# # # \n",
      "# # \n",
      "# \n"
     ]
    }
   ],
   "source": [
    "i=0\n",
    "j=0\n",
    "for i in range(0,5):\n",
    "    for j in range(i+1,6):\n",
    "        print('#',end=' ')\n",
    "    print()"
   ]
  },
  {
   "cell_type": "code",
   "execution_count": 46,
   "id": "180334b8",
   "metadata": {},
   "outputs": [
    {
     "name": "stdout",
     "output_type": "stream",
     "text": [
      "1 2 3 4 \n",
      "2 3 4 \n",
      "3 4 \n",
      "4 \n",
      "\n"
     ]
    }
   ],
   "source": [
    "i=0\n",
    "j=0\n",
    "for i in range(0,5):\n",
    "    for j in range(i+1,5):\n",
    "        print(j,end=' ')\n",
    "    print()"
   ]
  },
  {
   "cell_type": "code",
   "execution_count": 35,
   "id": "ac22a4a7",
   "metadata": {},
   "outputs": [
    {
     "data": {
      "text/plain": [
       "4"
      ]
     },
     "execution_count": 35,
     "metadata": {},
     "output_type": "execute_result"
    }
   ],
   "source": [
    "i"
   ]
  },
  {
   "cell_type": "code",
   "execution_count": null,
   "id": "b17d0d03",
   "metadata": {},
   "outputs": [],
   "source": []
  }
 ],
 "metadata": {
  "kernelspec": {
   "display_name": "Python 3 (ipykernel)",
   "language": "python",
   "name": "python3"
  },
  "language_info": {
   "codemirror_mode": {
    "name": "ipython",
    "version": 3
   },
   "file_extension": ".py",
   "mimetype": "text/x-python",
   "name": "python",
   "nbconvert_exporter": "python",
   "pygments_lexer": "ipython3",
   "version": "3.9.7"
  }
 },
 "nbformat": 4,
 "nbformat_minor": 5
}
